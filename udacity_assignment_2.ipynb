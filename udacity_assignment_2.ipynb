{
 "cells": [
  {
   "cell_type": "markdown",
   "metadata": {},
   "source": [
    "Udacity deep learning [assignment 2](https://github.com/tensorflow/tensorflow/blob/master/tensorflow/examples/udacity/2_fullyconnected.ipynb)\n",
    "and [assignment 3](https://github.com/tensorflow/tensorflow/blob/master/tensorflow/examples/udacity/3_regularization.ipynb)"
   ]
  },
  {
   "cell_type": "code",
   "execution_count": 2,
   "metadata": {
    "collapsed": true
   },
   "outputs": [],
   "source": [
    "# These are all the modules we'll be using later. Make sure you can import them\n",
    "# before proceeding further.\n",
    "from __future__ import print_function\n",
    "import numpy as np\n",
    "import tensorflow as tf\n",
    "from six.moves import cPickle as pickle\n",
    "from six.moves import range"
   ]
  },
  {
   "cell_type": "code",
   "execution_count": 3,
   "metadata": {
    "collapsed": false
   },
   "outputs": [
    {
     "name": "stdout",
     "output_type": "stream",
     "text": [
      "Training set (200000, 28, 28) (200000,)\n",
      "Validation set (10000, 28, 28) (10000,)\n",
      "Test set (10000, 28, 28) (10000,)\n"
     ]
    }
   ],
   "source": [
    "pickle_file = 'notMNIST.pickle'\n",
    "\n",
    "with open(pickle_file, 'rb') as f:\n",
    "    save = pickle.load(f)\n",
    "    train_dataset = save['train_dataset']\n",
    "    train_labels = save['train_labels']\n",
    "    valid_dataset = save['valid_dataset']\n",
    "    valid_labels = save['valid_labels']\n",
    "    test_dataset = save['test_dataset']\n",
    "    test_labels = save['test_labels']\n",
    "    del save  # hint to help gc free up memory\n",
    "    print('Training set', train_dataset.shape, train_labels.shape)\n",
    "    print('Validation set', valid_dataset.shape, valid_labels.shape)\n",
    "    print('Test set', test_dataset.shape, test_labels.shape)"
   ]
  },
  {
   "cell_type": "code",
   "execution_count": 28,
   "metadata": {
    "collapsed": true
   },
   "outputs": [],
   "source": [
    "image_size = 28\n",
    "num_labels = 10\n",
    "batch_size = 512\n",
    "hidden_layers = 100\n",
    "num_steps = 4001\n",
    "SEED = 5555"
   ]
  },
  {
   "cell_type": "code",
   "execution_count": 4,
   "metadata": {
    "collapsed": false
   },
   "outputs": [
    {
     "name": "stdout",
     "output_type": "stream",
     "text": [
      "Training set (200000, 784) (200000, 10)\n",
      "Validation set (10000, 784) (10000, 10)\n",
      "Test set (10000, 784) (10000, 10)\n"
     ]
    }
   ],
   "source": [
    "def reformat(dataset, labels):\n",
    "    dataset = dataset.reshape((-1, image_size * image_size)).astype(np.float32)\n",
    "    # Map 0 to [1.0, 0.0, 0.0 ...], 1 to [0.0, 1.0, 0.0 ...]\n",
    "    labels = (np.arange(num_labels) == labels[:,None]).astype(np.float32)\n",
    "    return dataset, labels\n",
    "train_dataset, train_labels = reformat(train_dataset, train_labels)\n",
    "valid_dataset, valid_labels = reformat(valid_dataset, valid_labels)\n",
    "test_dataset, test_labels = reformat(test_dataset, test_labels)\n",
    "print('Training set', train_dataset.shape, train_labels.shape)\n",
    "print('Validation set', valid_dataset.shape, valid_labels.shape)\n",
    "print('Test set', test_dataset.shape, test_labels.shape)"
   ]
  },
  {
   "cell_type": "markdown",
   "metadata": {
    "collapsed": false
   },
   "source": [
    "### Logistic Regression using tf"
   ]
  },
  {
   "cell_type": "code",
   "execution_count": 5,
   "metadata": {
    "collapsed": true
   },
   "outputs": [],
   "source": []
  },
  {
   "cell_type": "code",
   "execution_count": null,
   "metadata": {
    "collapsed": false
   },
   "outputs": [],
   "source": [
    "graph_LR = tf.Graph()\n",
    "\n",
    "with graph_LR.as_default():\n",
    "#     tf_train_dataset = tf.constant(train_dataset)\n",
    "    tf_valid_dataset = tf.constant(valid_dataset)\n",
    "    tf_test_dataset = tf.constant(test_dataset)\n",
    "    x = tf.placeholder(tf.float32, shape=(batch_size, image_size*image_size))\n",
    "    y = tf.placeholder(tf.float32, shape=(batch_size, num_labels))\n",
    "    with tf.variable_scope(\"LogisticRegression\"):\n",
    "        W = tf.get_variable(\"weights\", (image_size*image_size,num_labels),initializer=tf.random_uniform_initializer())\n",
    "        b = tf.get_variable(\"bias\",(num_labels,), initializer=tf.constant_initializer(0.0))\n",
    "        biases = tf.Variable(tf.zeros([num_labels]))\n",
    "        print(x.get_shape(),W.get_shape(),b.get_shape(), biases.get_shape())\n",
    "        logits = tf.matmul(x, W) + b\n",
    "        loss = tf.reduce_mean(tf.nn.softmax_cross_entropy_with_logits(logits, y))\n",
    "        optimizer = tf.train.GradientDescentOptimizer(0.5).minimize(loss)\n",
    "#         train_prediction = tf.nn.softmax(tf.matmul(tf_train_dataset, W) + b)\n",
    "        valid_prediction = tf.nn.softmax(tf.matmul(tf_valid_dataset, W) + b)\n",
    "        test_prediction = tf.nn.softmax(tf.matmul(tf_test_dataset, W) + b)"
   ]
  },
  {
   "cell_type": "code",
   "execution_count": 6,
   "metadata": {
    "collapsed": true
   },
   "outputs": [],
   "source": [
    "def accuracy(pred, labels):\n",
    "    return (100.0 * np.sum(np.argmax(pred,axis=1) == np.argmax(labels,axis=1)) / pred.shape[0])"
   ]
  },
  {
   "cell_type": "code",
   "execution_count": 8,
   "metadata": {
    "collapsed": false
   },
   "outputs": [],
   "source": []
  },
  {
   "cell_type": "code",
   "execution_count": null,
   "metadata": {
    "collapsed": false
   },
   "outputs": [],
   "source": [
    "%%timeit -r1 -n1\n",
    "with tf.Session(graph=graph_LR) as sess:\n",
    "    sess.run(tf.initialize_all_variables())\n",
    "    print(\"Initialized .\")\n",
    "    for i in xrange(num_steps):\n",
    "        indices = np.random.choice(train_dataset.shape[0], batch_size)\n",
    "        x_batch = train_dataset[indices]\n",
    "        y_batch = train_labels[indices]\n",
    "        _, l = sess.run([optimizer, loss], feed_dict={x:x_batch, y:y_batch})\n",
    "        if i % 100 == 0:\n",
    "            print(\"Loss at step %i = %.5f\" %(i, l))\n",
    "            #t_pred = train_prediction.eval()\n",
    "            v_pred = valid_prediction.eval()\n",
    "#             print(\"Training accuracy = %.2f, Validation accuracy = %.2f\" \\\n",
    "#                   %(accuracy(t_pred,train_labels), accuracy(v_pred, valid_labels)))\n",
    "            print(\"Validation accuracy = %.2f\" %(accuracy(v_pred, valid_labels)))\n",
    "    print(\"Completed training .\")\n",
    "    test_pred = test_prediction.eval()\n",
    "    print(\"Test accuracy = %.2f\" % accuracy(test_pred, test_labels))\n",
    "        "
   ]
  },
  {
   "cell_type": "markdown",
   "metadata": {
    "collapsed": true
   },
   "source": [
    "### Hidden layer"
   ]
  },
  {
   "cell_type": "code",
   "execution_count": 29,
   "metadata": {
    "collapsed": false
   },
   "outputs": [],
   "source": [
    "def train_deep_nn(dropout=False, regularization=False):\n",
    "    graph_H1 = tf.Graph()\n",
    "    with graph_H1.as_default():\n",
    "        with tf.device('/gpu:0'):\n",
    "        #     tf_train_dataset = tf.constant(train_dataset)\n",
    "            tf_valid_dataset = tf.constant(valid_dataset)\n",
    "            tf_test_dataset = tf.constant(test_dataset)\n",
    "            x = tf.placeholder(tf.float32, shape=(batch_size, image_size*image_size))\n",
    "            y = tf.placeholder(tf.float32, shape=(batch_size, num_labels))\n",
    "            with tf.variable_scope(\"1HiddenLayer\"):\n",
    "                W1 = tf.get_variable(\"weights_layer_1\", \\\n",
    "                                     (image_size*image_size, hidden_layers),\\\n",
    "                                     initializer=tf.random_uniform_initializer())\n",
    "                b1 = tf.get_variable(\"bias_layer_1\",\\\n",
    "                                     (hidden_layers,), \\\n",
    "                                     initializer=tf.constant_initializer(0.0))\n",
    "                print(x.get_shape(),W1.get_shape(),b1.get_shape())\n",
    "                relu_layer_1 = tf.nn.relu((tf.matmul(x, W1) + b1),name=\"relu_layer_1\")\n",
    "                if dropout:\n",
    "                    relu_layer_1 = tf.nn.dropout(relu_layer_1,0.5,seed=SEED)\n",
    "                \n",
    "                W2 = tf.get_variable(\"weights_layer_hidden\", \\\n",
    "                                     (hidden_layers, num_labels), \\\n",
    "                                     initializer=tf.random_uniform_initializer())\n",
    "                b2 = tf.get_variable(\"bias_layer_hidden\", (num_labels,),\\\n",
    "                                    initializer=tf.constant_initializer(0.0))\n",
    "                print(relu_layer_1.get_shape(),W2.get_shape(),b2.get_shape())\n",
    "                logits = tf.matmul(relu_layer_1, W2) + b2\n",
    "\n",
    "                # Adding regularizers\n",
    "                regularizers = tf.nn.l2_loss(W1) + tf.nn.l2_loss(W2)\n",
    "                reg_constant = 5e-4\n",
    "\n",
    "                loss = tf.reduce_mean(tf.nn.softmax_cross_entropy_with_logits(logits, y))\n",
    "                loss += (reg_constant * regularizers)\n",
    "                optimizer = tf.train.GradientDescentOptimizer(0.5).minimize(loss)\n",
    "        #         train_prediction = tf.nn.softmax(tf.matmul(tf_train_dataset, W) + b)\n",
    "                valid_prediction = tf.nn.softmax(\\\n",
    "                                                 tf.matmul(\\\n",
    "                                                           tf.nn.relu(tf.matmul(tf_valid_dataset, W1) + b1),\\\n",
    "                                                          W2)+b2)\n",
    "                test_prediction = tf.nn.softmax(\\\n",
    "                                                 tf.matmul(\\\n",
    "                                                           tf.nn.relu(tf.matmul(tf_test_dataset, W1) + b1),\\\n",
    "                                                          W2)+b2)\n",
    "    \n",
    "    # Start training\n",
    "    with tf.Session(graph=graph_H1, config=tf.ConfigProto(log_device_placement=True)) as sess:\n",
    "        sess.run(tf.initialize_all_variables())\n",
    "        print(\"Initialized .\")\n",
    "        for i in xrange(num_steps):\n",
    "            indices = np.random.choice(train_dataset.shape[0], batch_size)\n",
    "            x_batch = train_dataset[indices]\n",
    "            y_batch = train_labels[indices]\n",
    "            _, l = sess.run([optimizer, loss], feed_dict={x:x_batch, y:y_batch})\n",
    "            if i % 100 == 0:\n",
    "                print(\"Loss at step %i = %.5f\" %(i, l))\n",
    "                #t_pred = train_prediction.eval()\n",
    "                v_pred = valid_prediction.eval()\n",
    "    #             print(\"Training accuracy = %.2f, Validation accuracy = %.2f\" \\\n",
    "    #                   %(accuracy(t_pred,train_labels), accuracy(v_pred, valid_labels)))\n",
    "                print(\"Validation accuracy = %.2f\" %(accuracy(v_pred, valid_labels)))\n",
    "        print(\"Completed training .\")\n",
    "        test_pred = test_prediction.eval()\n",
    "        print(\"Test accuracy = %.2f\" % accuracy(test_pred, test_labels))\n",
    "        "
   ]
  },
  {
   "cell_type": "code",
   "execution_count": 30,
   "metadata": {
    "collapsed": true
   },
   "outputs": [
    {
     "name": "stdout",
     "output_type": "stream",
     "text": [
      "(512, 784) (784, 100) (100,)\n",
      "(512, 100) (100, 10) (10,)\n",
      "Initialized .\n",
      "Loss at step 0 = 100.55745\n",
      "Validation accuracy = 11.50\n",
      "Loss at step 100 = 18.88162\n",
      "Validation accuracy = 20.49\n",
      "Loss at step 200 = 6.64860\n",
      "Validation accuracy = 25.30\n",
      "Loss at step 300 = 4.46562\n",
      "Validation accuracy = 27.47\n",
      "Loss at step 400 = 4.55697\n",
      "Validation accuracy = 30.88\n",
      "Loss at step 500 = 3.96200\n",
      "Validation accuracy = 42.00\n",
      "Loss at step 600 = 3.57939\n",
      "Validation accuracy = 42.14\n",
      "Loss at step 700 = 3.48406\n",
      "Validation accuracy = 43.08\n",
      "Loss at step 800 = 3.33639\n",
      "Validation accuracy = 54.44\n",
      "Loss at step 900 = 3.10525\n",
      "Validation accuracy = 57.05\n",
      "Loss at step 1000 = 3.33076\n",
      "Validation accuracy = 61.82\n",
      "Loss at step 1100 = 3.62827\n",
      "Validation accuracy = 63.87\n",
      "Loss at step 1200 = 2.57053\n",
      "Validation accuracy = 67.03\n",
      "Loss at step 1300 = 2.59479\n",
      "Validation accuracy = 72.55\n",
      "Loss at step 1400 = 2.40259\n",
      "Validation accuracy = 76.89\n",
      "Loss at step 1500 = 2.33536\n",
      "Validation accuracy = 78.09\n",
      "Loss at step 1600 = 2.27859\n",
      "Validation accuracy = 78.40\n",
      "Loss at step 1700 = 2.13556\n",
      "Validation accuracy = 79.18\n",
      "Loss at step 1800 = 2.09987\n",
      "Validation accuracy = 79.24\n",
      "Loss at step 1900 = 1.94084\n",
      "Validation accuracy = 79.25\n",
      "Loss at step 2000 = 1.80169\n",
      "Validation accuracy = 80.06\n",
      "Loss at step 2100 = 1.78812\n",
      "Validation accuracy = 80.80\n",
      "Loss at step 2200 = 1.78324\n",
      "Validation accuracy = 80.84\n",
      "Loss at step 2300 = 1.69018\n",
      "Validation accuracy = 81.11\n",
      "Loss at step 2400 = 1.61173\n",
      "Validation accuracy = 80.99\n",
      "Loss at step 2500 = 1.48270\n",
      "Validation accuracy = 81.36\n",
      "Loss at step 2600 = 1.56413\n",
      "Validation accuracy = 81.46\n",
      "Loss at step 2700 = 1.42153\n",
      "Validation accuracy = 81.77\n",
      "Loss at step 2800 = 1.48891\n",
      "Validation accuracy = 82.08\n",
      "Loss at step 2900 = 1.44927\n",
      "Validation accuracy = 82.22\n",
      "Loss at step 3000 = 1.47397\n",
      "Validation accuracy = 82.60\n",
      "Loss at step 3100 = 1.30568\n",
      "Validation accuracy = 82.36\n",
      "Loss at step 3200 = 1.30752\n",
      "Validation accuracy = 82.31\n",
      "Loss at step 3300 = 1.41370\n",
      "Validation accuracy = 82.80\n",
      "Loss at step 3400 = 1.32625\n",
      "Validation accuracy = 82.74\n",
      "Loss at step 3500 = 1.17123\n",
      "Validation accuracy = 83.05\n",
      "Loss at step 3600 = 1.16961\n",
      "Validation accuracy = 83.01\n",
      "Loss at step 3700 = 1.25441\n",
      "Validation accuracy = 83.12\n",
      "Loss at step 3800 = 1.17334\n",
      "Validation accuracy = 83.18\n",
      "Loss at step 3900 = 1.14745\n",
      "Validation accuracy = 83.26\n",
      "Loss at step 4000 = 1.16839\n",
      "Validation accuracy = 83.26\n",
      "Completed training .\n",
      "Test accuracy = 89.99\n",
      "1 loop, best of 1: 19.1 s per loop\n"
     ]
    }
   ],
   "source": [
    "%%timeit -r1 -n1\n",
    "train_deep_nn(dropout=True, regularization=True)\n",
    "        "
   ]
  },
  {
   "cell_type": "code",
   "execution_count": null,
   "metadata": {
    "collapsed": true
   },
   "outputs": [],
   "source": []
  }
 ],
 "metadata": {
  "kernelspec": {
   "display_name": "Python 2",
   "language": "python",
   "name": "python2"
  },
  "language_info": {
   "codemirror_mode": {
    "name": "ipython",
    "version": 2
   },
   "file_extension": ".py",
   "mimetype": "text/x-python",
   "name": "python",
   "nbconvert_exporter": "python",
   "pygments_lexer": "ipython2",
   "version": "2.7.12"
  }
 },
 "nbformat": 4,
 "nbformat_minor": 0
}
