{
 "cells": [
  {
   "cell_type": "markdown",
   "metadata": {},
   "source": [
    "Udacity deep learning [assignment 2](https://github.com/tensorflow/tensorflow/blob/master/tensorflow/examples/udacity/2_fullyconnected.ipynb)"
   ]
  },
  {
   "cell_type": "code",
   "execution_count": 1,
   "metadata": {
    "collapsed": true
   },
   "outputs": [],
   "source": [
    "# These are all the modules we'll be using later. Make sure you can import them\n",
    "# before proceeding further.\n",
    "from __future__ import print_function\n",
    "import numpy as np\n",
    "import tensorflow as tf\n",
    "from six.moves import cPickle as pickle\n",
    "from six.moves import range"
   ]
  },
  {
   "cell_type": "code",
   "execution_count": 2,
   "metadata": {
    "collapsed": false
   },
   "outputs": [
    {
     "name": "stdout",
     "output_type": "stream",
     "text": [
      "Training set (200000, 28, 28) (200000,)\n",
      "Validation set (10000, 28, 28) (10000,)\n",
      "Test set (10000, 28, 28) (10000,)\n"
     ]
    }
   ],
   "source": [
    "pickle_file = 'notMNIST.pickle'\n",
    "\n",
    "with open(pickle_file, 'rb') as f:\n",
    "    save = pickle.load(f)\n",
    "    train_dataset = save['train_dataset']\n",
    "    train_labels = save['train_labels']\n",
    "    valid_dataset = save['valid_dataset']\n",
    "    valid_labels = save['valid_labels']\n",
    "    test_dataset = save['test_dataset']\n",
    "    test_labels = save['test_labels']\n",
    "    del save  # hint to help gc free up memory\n",
    "    print('Training set', train_dataset.shape, train_labels.shape)\n",
    "    print('Validation set', valid_dataset.shape, valid_labels.shape)\n",
    "    print('Test set', test_dataset.shape, test_labels.shape)"
   ]
  },
  {
   "cell_type": "code",
   "execution_count": 3,
   "metadata": {
    "collapsed": false
   },
   "outputs": [
    {
     "name": "stdout",
     "output_type": "stream",
     "text": [
      "Training set (200000, 784) (200000, 10)\n",
      "Validation set (10000, 784) (10000, 10)\n",
      "Test set (10000, 784) (10000, 10)\n"
     ]
    }
   ],
   "source": [
    "image_size = 28\n",
    "num_labels = 10\n",
    "\n",
    "def reformat(dataset, labels):\n",
    "    dataset = dataset.reshape((-1, image_size * image_size)).astype(np.float32)\n",
    "    # Map 0 to [1.0, 0.0, 0.0 ...], 1 to [0.0, 1.0, 0.0 ...]\n",
    "    labels = (np.arange(num_labels) == labels[:,None]).astype(np.float32)\n",
    "    return dataset, labels\n",
    "train_dataset, train_labels = reformat(train_dataset, train_labels)\n",
    "valid_dataset, valid_labels = reformat(valid_dataset, valid_labels)\n",
    "test_dataset, test_labels = reformat(test_dataset, test_labels)\n",
    "print('Training set', train_dataset.shape, train_labels.shape)\n",
    "print('Validation set', valid_dataset.shape, valid_labels.shape)\n",
    "print('Test set', test_dataset.shape, test_labels.shape)"
   ]
  },
  {
   "cell_type": "markdown",
   "metadata": {
    "collapsed": false
   },
   "source": [
    "### Logistic Regression using tf"
   ]
  },
  {
   "cell_type": "code",
   "execution_count": 4,
   "metadata": {
    "collapsed": true
   },
   "outputs": [],
   "source": [
    "batch_size = 128"
   ]
  },
  {
   "cell_type": "code",
   "execution_count": 5,
   "metadata": {
    "collapsed": false
   },
   "outputs": [
    {
     "name": "stdout",
     "output_type": "stream",
     "text": [
      "(128, 784) (784, 10) (10,) (10,)\n"
     ]
    }
   ],
   "source": [
    "graph_LR = tf.Graph()\n",
    "with graph_LR.as_default():\n",
    "#     tf_train_dataset = tf.constant(train_dataset)\n",
    "    tf_valid_dataset = tf.constant(valid_dataset)\n",
    "    tf_test_dataset = tf.constant(test_dataset)\n",
    "    x = tf.placeholder(tf.float32, shape=(batch_size, image_size*image_size))\n",
    "    y = tf.placeholder(tf.float32, shape=(batch_size, num_labels))\n",
    "    with tf.variable_scope(\"LogisticRegression\"):\n",
    "        W = tf.get_variable(\"weights\", (image_size*image_size,num_labels),initializer=tf.random_uniform_initializer())\n",
    "        b = tf.get_variable(\"bias\",(num_labels,), initializer=tf.constant_initializer(0.0))\n",
    "        biases = tf.Variable(tf.zeros([num_labels]))\n",
    "        print(x.get_shape(),W.get_shape(),b.get_shape(), biases.get_shape())\n",
    "        logits = tf.matmul(x, W) + b\n",
    "        loss = tf.reduce_mean(tf.nn.softmax_cross_entropy_with_logits(logits, y))\n",
    "        optimizer = tf.train.GradientDescentOptimizer(0.5).minimize(loss)\n",
    "#         train_prediction = tf.nn.softmax(tf.matmul(tf_train_dataset, W) + b)\n",
    "        valid_prediction = tf.nn.softmax(tf.matmul(tf_valid_dataset, W) + b)\n",
    "        test_prediction = tf.nn.softmax(tf.matmul(tf_test_dataset, W) + b)"
   ]
  },
  {
   "cell_type": "code",
   "execution_count": 6,
   "metadata": {
    "collapsed": true
   },
   "outputs": [],
   "source": [
    "def accuracy(pred, labels):\n",
    "    return (100.0 * np.sum(np.argmax(pred,axis=1) == np.argmax(labels,axis=1)) / pred.shape[0])"
   ]
  },
  {
   "cell_type": "code",
   "execution_count": 7,
   "metadata": {
    "collapsed": false
   },
   "outputs": [],
   "source": [
    "num_steps = 801"
   ]
  },
  {
   "cell_type": "code",
   "execution_count": 8,
   "metadata": {
    "collapsed": false
   },
   "outputs": [
    {
     "name": "stdout",
     "output_type": "stream",
     "text": [
      "Initialized .\n",
      "Loss at step 0 = 6.99332\n",
      "Validation accuracy = 15.84\n",
      "Loss at step 100 = 1.17128\n",
      "Validation accuracy = 76.51\n",
      "Loss at step 200 = 0.72741\n",
      "Validation accuracy = 78.55\n",
      "Loss at step 300 = 0.88049\n",
      "Validation accuracy = 78.46\n",
      "Loss at step 400 = 0.91479\n",
      "Validation accuracy = 79.77\n",
      "Loss at step 500 = 0.93101\n",
      "Validation accuracy = 80.07\n",
      "Loss at step 600 = 0.74982\n",
      "Validation accuracy = 80.63\n",
      "Loss at step 700 = 0.73281\n",
      "Validation accuracy = 80.68\n",
      "Loss at step 800 = 0.76789\n",
      "Validation accuracy = 81.32\n",
      "Completed training .\n",
      "Test accuracy = 87.59\n"
     ]
    }
   ],
   "source": [
    "with tf.Session(graph=graph_LR) as sess:\n",
    "    sess.run(tf.initialize_all_variables())\n",
    "    print(\"Initialized .\")\n",
    "    for i in xrange(num_steps):\n",
    "        indices = np.random.choice(train_dataset.shape[0], batch_size)\n",
    "        x_batch = train_dataset[indices]\n",
    "        y_batch = train_labels[indices]\n",
    "        _, l = sess.run([optimizer, loss], feed_dict={x:x_batch, y:y_batch})\n",
    "        if i % 100 == 0:\n",
    "            print(\"Loss at step %i = %.5f\" %(i, l))\n",
    "            #t_pred = train_prediction.eval()\n",
    "            v_pred = valid_prediction.eval()\n",
    "#             print(\"Training accuracy = %.2f, Validation accuracy = %.2f\" \\\n",
    "#                   %(accuracy(t_pred,train_labels), accuracy(v_pred, valid_labels)))\n",
    "            print(\"Validation accuracy = %.2f\" %(accuracy(v_pred, valid_labels)))\n",
    "    print(\"Completed training .\")\n",
    "    test_pred = test_prediction.eval()\n",
    "    print(\"Test accuracy = %.2f\" % accuracy(test_pred, test_labels))\n",
    "        "
   ]
  },
  {
   "cell_type": "code",
   "execution_count": null,
   "metadata": {
    "collapsed": true
   },
   "outputs": [],
   "source": []
  }
 ],
 "metadata": {
  "kernelspec": {
   "display_name": "Python 2",
   "language": "python",
   "name": "python2"
  },
  "language_info": {
   "codemirror_mode": {
    "name": "ipython",
    "version": 2
   },
   "file_extension": ".py",
   "mimetype": "text/x-python",
   "name": "python",
   "nbconvert_exporter": "python",
   "pygments_lexer": "ipython2",
   "version": "2.7.12"
  }
 },
 "nbformat": 4,
 "nbformat_minor": 0
}
