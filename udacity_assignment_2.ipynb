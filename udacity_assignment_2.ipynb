{
 "cells": [
  {
   "cell_type": "markdown",
   "metadata": {},
   "source": [
    "Udacity deep learning [assignment 2](https://github.com/tensorflow/tensorflow/blob/master/tensorflow/examples/udacity/2_fullyconnected.ipynb)"
   ]
  },
  {
   "cell_type": "code",
   "execution_count": 1,
   "metadata": {
    "collapsed": true
   },
   "outputs": [],
   "source": [
    "# These are all the modules we'll be using later. Make sure you can import them\n",
    "# before proceeding further.\n",
    "from __future__ import print_function\n",
    "import numpy as np\n",
    "import tensorflow as tf\n",
    "from six.moves import cPickle as pickle\n",
    "from six.moves import range"
   ]
  },
  {
   "cell_type": "code",
   "execution_count": 2,
   "metadata": {
    "collapsed": false
   },
   "outputs": [
    {
     "name": "stdout",
     "output_type": "stream",
     "text": [
      "Training set (200000, 28, 28) (200000,)\n",
      "Validation set (10000, 28, 28) (10000,)\n",
      "Test set (10000, 28, 28) (10000,)\n"
     ]
    }
   ],
   "source": [
    "pickle_file = 'notMNIST.pickle'\n",
    "\n",
    "with open(pickle_file, 'rb') as f:\n",
    "    save = pickle.load(f)\n",
    "    train_dataset = save['train_dataset']\n",
    "    train_labels = save['train_labels']\n",
    "    valid_dataset = save['valid_dataset']\n",
    "    valid_labels = save['valid_labels']\n",
    "    test_dataset = save['test_dataset']\n",
    "    test_labels = save['test_labels']\n",
    "    del save  # hint to help gc free up memory\n",
    "    print('Training set', train_dataset.shape, train_labels.shape)\n",
    "    print('Validation set', valid_dataset.shape, valid_labels.shape)\n",
    "    print('Test set', test_dataset.shape, test_labels.shape)"
   ]
  },
  {
   "cell_type": "code",
   "execution_count": 3,
   "metadata": {
    "collapsed": false
   },
   "outputs": [
    {
     "name": "stdout",
     "output_type": "stream",
     "text": [
      "Training set (200000, 784) (200000, 10)\n",
      "Validation set (10000, 784) (10000, 10)\n",
      "Test set (10000, 784) (10000, 10)\n"
     ]
    }
   ],
   "source": [
    "image_size = 28\n",
    "num_labels = 10\n",
    "\n",
    "def reformat(dataset, labels):\n",
    "    dataset = dataset.reshape((-1, image_size * image_size)).astype(np.float32)\n",
    "    # Map 0 to [1.0, 0.0, 0.0 ...], 1 to [0.0, 1.0, 0.0 ...]\n",
    "    labels = (np.arange(num_labels) == labels[:,None]).astype(np.float32)\n",
    "    return dataset, labels\n",
    "train_dataset, train_labels = reformat(train_dataset, train_labels)\n",
    "valid_dataset, valid_labels = reformat(valid_dataset, valid_labels)\n",
    "test_dataset, test_labels = reformat(test_dataset, test_labels)\n",
    "print('Training set', train_dataset.shape, train_labels.shape)\n",
    "print('Validation set', valid_dataset.shape, valid_labels.shape)\n",
    "print('Test set', test_dataset.shape, test_labels.shape)"
   ]
  },
  {
   "cell_type": "markdown",
   "metadata": {
    "collapsed": false
   },
   "source": [
    "### Logistic Regression using tf"
   ]
  },
  {
   "cell_type": "code",
   "execution_count": 4,
   "metadata": {
    "collapsed": true
   },
   "outputs": [],
   "source": [
    "batch_size = 512"
   ]
  },
  {
   "cell_type": "code",
   "execution_count": null,
   "metadata": {
    "collapsed": false
   },
   "outputs": [],
   "source": [
    "graph_LR = tf.Graph()\n",
    "\n",
    "with graph_LR.as_default():\n",
    "#     tf_train_dataset = tf.constant(train_dataset)\n",
    "    tf_valid_dataset = tf.constant(valid_dataset)\n",
    "    tf_test_dataset = tf.constant(test_dataset)\n",
    "    x = tf.placeholder(tf.float32, shape=(batch_size, image_size*image_size))\n",
    "    y = tf.placeholder(tf.float32, shape=(batch_size, num_labels))\n",
    "    with tf.variable_scope(\"LogisticRegression\"):\n",
    "        W = tf.get_variable(\"weights\", (image_size*image_size,num_labels),initializer=tf.random_uniform_initializer())\n",
    "        b = tf.get_variable(\"bias\",(num_labels,), initializer=tf.constant_initializer(0.0))\n",
    "        biases = tf.Variable(tf.zeros([num_labels]))\n",
    "        print(x.get_shape(),W.get_shape(),b.get_shape(), biases.get_shape())\n",
    "        logits = tf.matmul(x, W) + b\n",
    "        loss = tf.reduce_mean(tf.nn.softmax_cross_entropy_with_logits(logits, y))\n",
    "        optimizer = tf.train.GradientDescentOptimizer(0.5).minimize(loss)\n",
    "#         train_prediction = tf.nn.softmax(tf.matmul(tf_train_dataset, W) + b)\n",
    "        valid_prediction = tf.nn.softmax(tf.matmul(tf_valid_dataset, W) + b)\n",
    "        test_prediction = tf.nn.softmax(tf.matmul(tf_test_dataset, W) + b)"
   ]
  },
  {
   "cell_type": "code",
   "execution_count": 5,
   "metadata": {
    "collapsed": true
   },
   "outputs": [],
   "source": [
    "def accuracy(pred, labels):\n",
    "    return (100.0 * np.sum(np.argmax(pred,axis=1) == np.argmax(labels,axis=1)) / pred.shape[0])"
   ]
  },
  {
   "cell_type": "code",
   "execution_count": 9,
   "metadata": {
    "collapsed": false
   },
   "outputs": [],
   "source": [
    "num_steps = 2001"
   ]
  },
  {
   "cell_type": "code",
   "execution_count": null,
   "metadata": {
    "collapsed": true
   },
   "outputs": [],
   "source": [
    "%%timeit -r1 -n1\n",
    "with tf.Session(graph=graph_LR) as sess:\n",
    "    sess.run(tf.initialize_all_variables())\n",
    "    print(\"Initialized .\")\n",
    "    for i in xrange(num_steps):\n",
    "        indices = np.random.choice(train_dataset.shape[0], batch_size)\n",
    "        x_batch = train_dataset[indices]\n",
    "        y_batch = train_labels[indices]\n",
    "        _, l = sess.run([optimizer, loss], feed_dict={x:x_batch, y:y_batch})\n",
    "        if i % 100 == 0:\n",
    "            print(\"Loss at step %i = %.5f\" %(i, l))\n",
    "            #t_pred = train_prediction.eval()\n",
    "            v_pred = valid_prediction.eval()\n",
    "#             print(\"Training accuracy = %.2f, Validation accuracy = %.2f\" \\\n",
    "#                   %(accuracy(t_pred,train_labels), accuracy(v_pred, valid_labels)))\n",
    "            print(\"Validation accuracy = %.2f\" %(accuracy(v_pred, valid_labels)))\n",
    "    print(\"Completed training .\")\n",
    "    test_pred = test_prediction.eval()\n",
    "    print(\"Test accuracy = %.2f\" % accuracy(test_pred, test_labels))\n",
    "        "
   ]
  },
  {
   "cell_type": "markdown",
   "metadata": {
    "collapsed": true
   },
   "source": [
    "### Hidden layer"
   ]
  },
  {
   "cell_type": "code",
   "execution_count": 15,
   "metadata": {
    "collapsed": false
   },
   "outputs": [
    {
     "name": "stdout",
     "output_type": "stream",
     "text": [
      "(512, 784) (784, 1000) (1000,)\n",
      "(512, 1000) (1000, 10) (10,)\n"
     ]
    }
   ],
   "source": [
    "graph_H1 = tf.Graph()\n",
    "hidden_layers = 1000\n",
    "with graph_H1.as_default():\n",
    "    with tf.device('/gpu:0'):\n",
    "    #     tf_train_dataset = tf.constant(train_dataset)\n",
    "        tf_valid_dataset = tf.constant(valid_dataset)\n",
    "        tf_test_dataset = tf.constant(test_dataset)\n",
    "        x = tf.placeholder(tf.float32, shape=(batch_size, image_size*image_size))\n",
    "        y = tf.placeholder(tf.float32, shape=(batch_size, num_labels))\n",
    "        with tf.variable_scope(\"1HiddenLayer\"):\n",
    "            W1 = tf.get_variable(\"weights_layer_1\", \\\n",
    "                                 (image_size*image_size, hidden_layers),\\\n",
    "                                 initializer=tf.random_uniform_initializer())\n",
    "            b1 = tf.get_variable(\"bias_layer_1\",\\\n",
    "                                 (hidden_layers,), \\\n",
    "                                 initializer=tf.constant_initializer(0.0))\n",
    "            print(x.get_shape(),W1.get_shape(),b1.get_shape())\n",
    "            relu_layer_1 = tf.nn.relu((tf.matmul(x, W1) + b1),name=\"relu_layer_1\")\n",
    "            W2 = tf.get_variable(\"weights_layer_hidden\", \\\n",
    "                                 (hidden_layers, num_labels), \\\n",
    "                                 initializer=tf.random_uniform_initializer())\n",
    "            b2 = tf.get_variable(\"bias_layer_hidden\", (num_labels,),\\\n",
    "                                initializer=tf.constant_initializer(0.0))\n",
    "            print(relu_layer_1.get_shape(),W2.get_shape(),b2.get_shape())\n",
    "            logits = tf.matmul(relu_layer_1, W2) + b2\n",
    "\n",
    "            loss = tf.reduce_mean(tf.nn.softmax_cross_entropy_with_logits(logits, y))\n",
    "            optimizer = tf.train.GradientDescentOptimizer(0.5).minimize(loss)\n",
    "    #         train_prediction = tf.nn.softmax(tf.matmul(tf_train_dataset, W) + b)\n",
    "            valid_prediction = tf.nn.softmax(\\\n",
    "                                             tf.matmul(\\\n",
    "                                                       tf.nn.relu(tf.matmul(tf_valid_dataset, W1) + b1),\\\n",
    "                                                      W2)+b2)\n",
    "            test_prediction = tf.nn.softmax(\\\n",
    "                                             tf.matmul(\\\n",
    "                                                       tf.nn.relu(tf.matmul(tf_test_dataset, W1) + b1),\\\n",
    "                                                      W2)+b2)"
   ]
  },
  {
   "cell_type": "code",
   "execution_count": 16,
   "metadata": {
    "collapsed": true
   },
   "outputs": [
    {
     "name": "stdout",
     "output_type": "stream",
     "text": [
      "Initialized .\n",
      "Loss at step 0 = 211.37839\n",
      "Validation accuracy = 11.69\n",
      "Loss at step 100 = 38.32451\n",
      "Validation accuracy = 23.04\n",
      "Loss at step 200 = 163.38474\n",
      "Validation accuracy = 29.75\n",
      "Loss at step 300 = 6.04366\n",
      "Validation accuracy = 33.74\n",
      "Loss at step 400 = 2.76500\n",
      "Validation accuracy = 37.68\n",
      "Loss at step 500 = 2.33596\n",
      "Validation accuracy = 39.04\n",
      "Loss at step 600 = 14.74561\n",
      "Validation accuracy = 41.10\n",
      "Loss at step 700 = 10.60199\n",
      "Validation accuracy = 47.15\n",
      "Loss at step 800 = 1.87231\n",
      "Validation accuracy = 48.39\n",
      "Loss at step 900 = 1.56463\n",
      "Validation accuracy = 52.56\n",
      "Loss at step 1000 = 1.38468\n",
      "Validation accuracy = 51.97\n",
      "Loss at step 1100 = 1.57524\n",
      "Validation accuracy = 57.13\n",
      "Loss at step 1200 = 1.18497\n",
      "Validation accuracy = 56.46\n",
      "Loss at step 1300 = 1.13007\n",
      "Validation accuracy = 59.19\n",
      "Loss at step 1400 = 1.24248\n",
      "Validation accuracy = 67.84\n",
      "Loss at step 1500 = 0.85601\n",
      "Validation accuracy = 71.49\n",
      "Loss at step 1600 = 1.20706\n",
      "Validation accuracy = 72.92\n",
      "Loss at step 1700 = 1.20432\n",
      "Validation accuracy = 74.93\n",
      "Loss at step 1800 = 0.89317\n",
      "Validation accuracy = 74.26\n",
      "Loss at step 1900 = 0.71165\n",
      "Validation accuracy = 75.72\n",
      "Loss at step 2000 = 0.98374\n",
      "Validation accuracy = 76.40\n",
      "Completed training .\n",
      "Test accuracy = 83.50\n",
      "1 loop, best of 1: 27.9 s per loop\n"
     ]
    }
   ],
   "source": [
    "%%timeit -r1 -n1\n",
    "with tf.Session(graph=graph_H1, config=tf.ConfigProto(log_device_placement=True)) as sess:\n",
    "    sess.run(tf.initialize_all_variables())\n",
    "    print(\"Initialized .\")\n",
    "    for i in xrange(num_steps):\n",
    "        indices = np.random.choice(train_dataset.shape[0], batch_size)\n",
    "        x_batch = train_dataset[indices]\n",
    "        y_batch = train_labels[indices]\n",
    "        _, l = sess.run([optimizer, loss], feed_dict={x:x_batch, y:y_batch})\n",
    "        if i % 100 == 0:\n",
    "            print(\"Loss at step %i = %.5f\" %(i, l))\n",
    "            #t_pred = train_prediction.eval()\n",
    "            v_pred = valid_prediction.eval()\n",
    "#             print(\"Training accuracy = %.2f, Validation accuracy = %.2f\" \\\n",
    "#                   %(accuracy(t_pred,train_labels), accuracy(v_pred, valid_labels)))\n",
    "            print(\"Validation accuracy = %.2f\" %(accuracy(v_pred, valid_labels)))\n",
    "    print(\"Completed training .\")\n",
    "    test_pred = test_prediction.eval()\n",
    "    print(\"Test accuracy = %.2f\" % accuracy(test_pred, test_labels))\n",
    "        "
   ]
  },
  {
   "cell_type": "code",
   "execution_count": null,
   "metadata": {
    "collapsed": true
   },
   "outputs": [],
   "source": []
  }
 ],
 "metadata": {
  "kernelspec": {
   "display_name": "Python 2",
   "language": "python",
   "name": "python2"
  },
  "language_info": {
   "codemirror_mode": {
    "name": "ipython",
    "version": 2
   },
   "file_extension": ".py",
   "mimetype": "text/x-python",
   "name": "python",
   "nbconvert_exporter": "python",
   "pygments_lexer": "ipython2",
   "version": "2.7.12"
  }
 },
 "nbformat": 4,
 "nbformat_minor": 0
}
