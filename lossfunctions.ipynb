{
 "cells": [
  {
   "cell_type": "markdown",
   "metadata": {},
   "source": [
    "# Explore loss functions over probability distributions"
   ]
  },
  {
   "cell_type": "code",
   "execution_count": 24,
   "metadata": {
    "collapsed": false
   },
   "outputs": [],
   "source": [
    "from __future__ import print_function\n",
    "from __future__ import division\n",
    "from prettytable import PrettyTable\n",
    "import numpy as np\n",
    "import matplotlib.pyplot as plt\n",
    "import seaborn as sns\n",
    "import IPython\n",
    "from IPython.display import display\n",
    "%matplotlib inline"
   ]
  },
  {
   "cell_type": "markdown",
   "metadata": {},
   "source": [
    "## Generate data"
   ]
  },
  {
   "cell_type": "code",
   "execution_count": 25,
   "metadata": {
    "collapsed": false
   },
   "outputs": [],
   "source": [
    "def gen_random_prob(dim):\n",
    "    random_vals = np.random.random(dim)\n",
    "    return random_vals / (np.sum(random_vals))"
   ]
  },
  {
   "cell_type": "code",
   "execution_count": 27,
   "metadata": {
    "collapsed": true
   },
   "outputs": [],
   "source": [
    "def gen_random_1hot(dim):\n",
    "    onehotv = np.zeros(dim)\n",
    "    onehotv[np.random.choice(range(dim),1)[0]] = 1\n",
    "    return onehotv"
   ]
  },
  {
   "cell_type": "markdown",
   "metadata": {},
   "source": [
    "## cross-entropy"
   ]
  },
  {
   "cell_type": "code",
   "execution_count": 54,
   "metadata": {
    "collapsed": false
   },
   "outputs": [],
   "source": [
    "def cross_entropy(p, q):\n",
    "    # Check if q has a zero value where p is non zero\n",
    "    dim = p.shape[0]\n",
    "    non_zero_indices = np.logical_and((p > 0),(q > 0))\n",
    "    if np.sum(non_zero_indices) == 0:\n",
    "        print(\"p non-zero, with q zero, log will fail\")\n",
    "    else:\n",
    "        inter_med = -1 * (p[non_zero_indices] * np.log(q[non_zero_indices]))\n",
    "        return np.sum(inter_med)"
   ]
  },
  {
   "cell_type": "markdown",
   "metadata": {},
   "source": [
    "## test case"
   ]
  },
  {
   "cell_type": "code",
   "execution_count": 55,
   "metadata": {
    "collapsed": false
   },
   "outputs": [
    {
     "name": "stdout",
     "output_type": "stream",
     "text": [
      "[ 0.  1.  0.  0.  0.] [ 0.  1.  0.  0.  0.]\n",
      "0.0\n",
      "[ 0.28316348  0.12333152  0.01534195  0.11426098  0.46390207] [ 0.40325515  0.38210204  0.03423576  0.10963055  0.07077651]\n",
      "1.90869781326\n"
     ]
    }
   ],
   "source": [
    "p = gen_random_1hot(5)\n",
    "q = gen_random_1hot(5)\n",
    "print(p,q)\n",
    "print(cross_entropy(p,q))\n",
    "p = gen_random_prob(5)\n",
    "q = gen_random_prob(5)\n",
    "print(p,q)\n",
    "print(cross_entropy(p,q))"
   ]
  },
  {
   "cell_type": "markdown",
   "metadata": {},
   "source": [
    "## Example"
   ]
  },
  {
   "cell_type": "code",
   "execution_count": 59,
   "metadata": {
    "collapsed": false
   },
   "outputs": [
    {
     "name": "stdout",
     "output_type": "stream",
     "text": [
      "cross-entropy: 2.425\n",
      "reverse cross-entropy: 2.402\n"
     ]
    },
    {
     "data": {
      "image/png": "[encoded data removed]",
      "text/plain": [
       "<matplotlib.figure.Figure at 0x7fb948700110>"
      ]
     },
     "metadata": {},
     "output_type": "display_data"
    }
   ],
   "source": [
    "dim = 10\n",
    "targetprob = gen_random_prob(dim)\n",
    "predprob = gen_random_prob(dim)\n",
    "\n",
    "plt.plot(range(dim), predprob, label=\"pred\")\n",
    "plt.plot(range(dim), targetprob, label=\"target\")\n",
    "plt.legend(loc='upper left')\n",
    "ce = cross_entropy(targetprob, predprob)\n",
    "rce = cross_entropy(predprob, targetprob)\n",
    "print(\"cross-entropy: %.3f\" % (\"na\" if not ce else ce))\n",
    "print(\"reverse cross-entropy: %.3f\" % (\"na\" if not rce else rce))"
   ]
  },
  {
   "cell_type": "code",
   "execution_count": null,
   "metadata": {
    "collapsed": true
   },
   "outputs": [],
   "source": []
  }
 ],
 "metadata": {
  "kernelspec": {
   "display_name": "Python 2",
   "language": "python",
   "name": "python2"
  },
  "language_info": {
   "codemirror_mode": {
    "name": "ipython",
    "version": 2
   },
   "file_extension": ".py",
   "mimetype": "text/x-python",
   "name": "python",
   "nbconvert_exporter": "python",
   "pygments_lexer": "ipython2",
   "version": "2.7.12"
  }
 },
 "nbformat": 4,
 "nbformat_minor": 0
}
