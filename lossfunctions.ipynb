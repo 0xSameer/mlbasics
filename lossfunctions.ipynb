{
 "cells": [
  {
   "cell_type": "markdown",
   "metadata": {},
   "source": [
    "# Explore loss functions over probability distributions"
   ]
  },
  {
   "cell_type": "code",
   "execution_count": 65,
   "metadata": {
    "collapsed": false
   },
   "outputs": [],
   "source": [
    "from __future__ import print_function\n",
    "from __future__ import division\n",
    "from prettytable import PrettyTable\n",
    "import numpy as np\n",
    "import matplotlib.pyplot as plt\n",
    "import seaborn as sns\n",
    "import IPython\n",
    "from IPython.display import display\n",
    "import scipy as sp\n",
    "%matplotlib inline"
   ]
  },
  {
   "cell_type": "markdown",
   "metadata": {},
   "source": [
    "## Generate data"
   ]
  },
  {
   "cell_type": "code",
   "execution_count": 25,
   "metadata": {
    "collapsed": false
   },
   "outputs": [],
   "source": [
    "def gen_random_prob(dim):\n",
    "    random_vals = np.random.random(dim)\n",
    "    return random_vals / (np.sum(random_vals))"
   ]
  },
  {
   "cell_type": "code",
   "execution_count": 27,
   "metadata": {
    "collapsed": true
   },
   "outputs": [],
   "source": [
    "def gen_random_1hot(dim):\n",
    "    onehotv = np.zeros(dim)\n",
    "    onehotv[np.random.choice(range(dim),1)[0]] = 1\n",
    "    return onehotv"
   ]
  },
  {
   "cell_type": "markdown",
   "metadata": {},
   "source": [
    "## cross-entropy"
   ]
  },
  {
   "cell_type": "code",
   "execution_count": 60,
   "metadata": {
    "collapsed": false
   },
   "outputs": [],
   "source": [
    "def cross_entropy(p, q):\n",
    "    # Check if q has a zero value where p is non zero\n",
    "    dim = p.shape[0]\n",
    "    na_indices = np.logical_and((p > 0),(q == 0))\n",
    "    non_zero_indices = np.logical_and((p > 0),(q > 0))\n",
    "    if np.any(na_indices):\n",
    "        print(\"p non-zero, with q zero, log will fail\")\n",
    "    else:\n",
    "        inter_med = -1 * (p[non_zero_indices] * np.log(q[non_zero_indices]))\n",
    "        return np.sum(inter_med)"
   ]
  },
  {
   "cell_type": "code",
   "execution_count": 66,
   "metadata": {
    "collapsed": true
   },
   "outputs": [],
   "source": [
    "def kl(p, q):\n",
    "    return sp.stats.entropy(p,q)"
   ]
  },
  {
   "cell_type": "markdown",
   "metadata": {},
   "source": [
    "## test case"
   ]
  },
  {
   "cell_type": "code",
   "execution_count": 71,
   "metadata": {
    "collapsed": false
   },
   "outputs": [],
   "source": [
    "def test_1():\n",
    "    p = gen_random_1hot(5)\n",
    "    q = gen_random_1hot(5)\n",
    "    print(p,q)\n",
    "    print(cross_entropy(p,q))\n",
    "    p = gen_random_prob(5)\n",
    "    q = gen_random_prob(5)\n",
    "    print(p,q)\n",
    "    print(cross_entropy(p,q))\n",
    "    print(p,q)\n",
    "    print(kl(p,q))\n",
    "    print(kl(q,p))"
   ]
  },
  {
   "cell_type": "code",
   "execution_count": 72,
   "metadata": {
    "collapsed": false
   },
   "outputs": [
    {
     "name": "stdout",
     "output_type": "stream",
     "text": [
      "[ 0.  0.  0.  0.  1.] [ 0.  0.  0.  1.  0.]\n",
      "p non-zero, with q zero, log will fail\n",
      "None\n",
      "[ 0.21502422  0.05419713  0.23736826  0.30384162  0.18956877] [ 0.11704762  0.06256256  0.33722969  0.2352546   0.24790553]\n",
      "1.57357198096\n",
      "[ 0.21502422  0.05419713  0.23736826  0.30384162  0.18956877] [ 0.11704762  0.06256256  0.33722969  0.2352546   0.24790553]\n",
      "0.0665134049038\n",
      "0.0625389645251\n"
     ]
    }
   ],
   "source": [
    "test_1()"
   ]
  },
  {
   "cell_type": "markdown",
   "metadata": {},
   "source": [
    "## Example"
   ]
  },
  {
   "cell_type": "code",
   "execution_count": 81,
   "metadata": {
    "collapsed": false
   },
   "outputs": [],
   "source": [
    "def example_cross_entropy():\n",
    "    dim = 10\n",
    "    targetprob = gen_random_prob(dim)\n",
    "    predprob = gen_random_prob(dim)\n",
    "\n",
    "    plt.plot(range(dim), targetprob, label=\"p\")\n",
    "    plt.plot(range(dim), predprob, label=\"q\")\n",
    "    \n",
    "    plt.legend(loc='upper left')\n",
    "    ce = cross_entropy(targetprob, predprob)\n",
    "    rce = cross_entropy(predprob, targetprob)\n",
    "    print(\"cross-entropy: %.3f, reverse cross-entropy: %.3f\" % \\\n",
    "          ((\"na\" if not ce else ce), (\"na\" if not rce else rce)))\n",
    "    print(\"KL(p,q): %.3f, KL(q,p): %.3f\" %(kl(targetprob, predprob),kl(predprob,targetprob)))"
   ]
  },
  {
   "cell_type": "code",
   "execution_count": 82,
   "metadata": {
    "collapsed": false
   },
   "outputs": [
    {
     "name": "stdout",
     "output_type": "stream",
     "text": [
      "cross-entropy: 2.388, reverse cross-entropy: 2.366\n",
      "KL(p,q): 0.166, KL(q,p): 0.145\n"
     ]
    },
    {
     "data": {
      "image/png": "[encoded data removed]",
      "text/plain": [
       "<matplotlib.figure.Figure at 0x7fb9489a1f10>"
      ]
     },
     "metadata": {},
     "output_type": "display_data"
    }
   ],
   "source": [
    "example_cross_entropy()"
   ]
  },
  {
   "cell_type": "code",
   "execution_count": null,
   "metadata": {
    "collapsed": true
   },
   "outputs": [],
   "source": []
  }
 ],
 "metadata": {
  "kernelspec": {
   "display_name": "Python 2",
   "language": "python",
   "name": "python2"
  },
  "language_info": {
   "codemirror_mode": {
    "name": "ipython",
    "version": 2
   },
   "file_extension": ".py",
   "mimetype": "text/x-python",
   "name": "python",
   "nbconvert_exporter": "python",
   "pygments_lexer": "ipython2",
   "version": "2.7.12"
  }
 },
 "nbformat": 4,
 "nbformat_minor": 0
}
